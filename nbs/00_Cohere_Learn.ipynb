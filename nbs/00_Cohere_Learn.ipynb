{
 "cells": [
  {
   "cell_type": "code",
   "execution_count": 6,
   "id": "d1f620f9",
   "metadata": {},
   "outputs": [
    {
     "name": "stdout",
     "output_type": "stream",
     "text": [
      "The autoreload extension is already loaded. To reload it, use:\n",
      "  %reload_ext autoreload\n"
     ]
    }
   ],
   "source": [
    "from pathlib import Path\n",
    "\n",
    "import pandas as pd\n",
    "from typing import List\n",
    "from sklearn.metrics import precision_recall_fscore_support, accuracy_score\n",
    "from sklearn.model_selection import train_test_split\n",
    "\n",
    "%load_ext autoreload\n",
    "%autoreload 2\n",
    "Path.ls = lambda x: list(x.iterdir())\n",
    "\n",
    "# Setting up Cohere\n",
    "with Path(\"cohere_api_key\").open(\"r\") as f:\n",
    "    cohere_api_key = f.read().strip()\n",
    "\n",
    "import cohere\n",
    "from cohere.classify import Example\n",
    "\n",
    "co = cohere.Client(f\"{cohere_api_key}\")"
   ]
  },
  {
   "cell_type": "code",
   "execution_count": 33,
   "id": "3b3e4336",
   "metadata": {},
   "outputs": [],
   "source": [
    "from tqdm.notebook import tqdm\n",
    "from collections import abc"
   ]
  },
  {
   "cell_type": "code",
   "execution_count": 18,
   "id": "affc78b9",
   "metadata": {},
   "outputs": [],
   "source": [
    "df = pd.read_csv(\"../data/raw/Tagged_Data.csv\")\n",
    "df = df.dropna()"
   ]
  },
  {
   "cell_type": "code",
   "execution_count": 37,
   "id": "2e825405",
   "metadata": {},
   "outputs": [
    {
     "data": {
      "text/plain": [
       "CohereFewShotClassify(Train Counts: [4, 8, 16, 32], Test Count: 64, Text Column(x_label): Name, Target Column(y_label): Key)"
      ]
     },
     "execution_count": 37,
     "metadata": {},
     "output_type": "execute_result"
    }
   ],
   "source": [
    "class CohereLearnBase:\n",
    "    def make_examples(self, df: pd.DataFrame):\n",
    "        \"\"\"\n",
    "        #TODO: Iterative and slow, make this parallel and fast\n",
    "        \"\"\"\n",
    "        examples = []\n",
    "        for row in df.iterrows():\n",
    "            text = row[1][\"Name\"]\n",
    "            lbl = row[1][\"Key\"]\n",
    "            examples.append(Example(text, lbl))\n",
    "        return examples\n",
    "\n",
    "    def parse_cohere_classification(classification):\n",
    "        lbl = classification.prediction\n",
    "        confidences = classification.confidence\n",
    "        score = -1\n",
    "        for c in confidences:\n",
    "            score = max(score, c.confidence)\n",
    "        return lbl, score\n",
    "\n",
    "    def parse_cohere_response(response):\n",
    "        lbls, scores = [], []\n",
    "        for classification in response.classifications:\n",
    "            lbl, score = parse_cohere_classification(classification)\n",
    "            lbls.append(lbl)\n",
    "            scores.append(score)\n",
    "        return lbls\n",
    "\n",
    "    def predict(self):\n",
    "        responses = []\n",
    "        for trn_df in tqdm(self.train_dfs):\n",
    "            inputs = self.test_df[self.x_label].tolist()\n",
    "            examples = self.make_examples(trn_df)\n",
    "            response = co.classify(inputs=inputs, examples=examples)\n",
    "        responses.append(response)\n",
    "        return responses\n",
    "\n",
    "    def __repr__(self):\n",
    "        return f\"Train Counts: {self.train_counts}, Test Count: {self.test_count}, Text Column(x_label): {self.x_label}, Target Column(y_label): {self.y_label}\"\n",
    "\n",
    "\n",
    "class CohereFewShotClassify(CohereLearnBase):\n",
    "    def __init__(\n",
    "        self,\n",
    "        df: pd.DataFrame,\n",
    "        co: cohere.Client,\n",
    "        train_counts: List[int] = [4, 8, 16, 32],\n",
    "        test_count: int = 64,\n",
    "        x_label=\"Name\",\n",
    "        y_label=\"Key\",\n",
    "    ):\n",
    "        self.df, self.train_counts, self.test_count, self.x_label, self.y_label = (\n",
    "            df,\n",
    "            train_counts,\n",
    "            test_count,\n",
    "            x_label,\n",
    "            y_label,\n",
    "        )\n",
    "        self.labels = list(self.df[y_label].unique())\n",
    "        self.random_state = 37\n",
    "        self.train_dfs, self.test_df = self.make_train_dataframes(\n",
    "            self.train_counts, self.test_count, self.labels\n",
    "        )\n",
    "        \n",
    "    def __repr__(self):\n",
    "        return f\"CohereFewShotClassify({super().__repr__()})\"\n",
    "\n",
    "    def make_train_dataframes(\n",
    "        self, train_counts: List[int], test_count: int, labels: List[str]\n",
    "    ) -> List[pd.DataFrame]:\n",
    "        train_dfs = []\n",
    "        for n in train_counts:\n",
    "            trn = []\n",
    "            test_lbl_cuts = []\n",
    "            for lbl in labels:\n",
    "                class_cut = df[df[self.y_label] == lbl]\n",
    "                if len(class_cut) <= self.test_count:\n",
    "                    raise ValueError(f\"For label {lbl} insufficient number of samples\")\n",
    "                test_cut = class_cut.sample(\n",
    "                    self.test_count, random_state=self.random_state\n",
    "                )\n",
    "                test_lbl_cuts.append(test_cut)\n",
    "                left_over = class_cut[\n",
    "                    ~class_cut.apply(tuple, 1).isin(test_cut.apply(tuple, 1))\n",
    "                ]\n",
    "                trn.append(left_over.sample(n, random_state=self.random_state))\n",
    "            train_dfs.append(pd.concat(trn))\n",
    "        test_df = pd.concat(test_lbl_cuts)\n",
    "        return train_dfs, test_df\n",
    "\n",
    "\n",
    "cohere_clf = CohereFewShotClassify(\n",
    "    df=df,\n",
    "    co=co,\n",
    "    train_counts=[4, 8, 16, 32],\n",
    "    test_count=64,\n",
    "    x_label=\"Name\",\n",
    "    y_label=\"Key\",\n",
    ")\n",
    "\n",
    "cohere_clf\n",
    "# assert len(test_df) == 64*len(labels)\n",
    "# assert len(train_cuts) == len(train_dfs)\n",
    "# assert train_cuts[0]*len(labels) == len(train_dfs[0])"
   ]
  }
 ],
 "metadata": {
  "kernelspec": {
   "display_name": "Python 3 (ipykernel)",
   "language": "python",
   "name": "python3"
  },
  "language_info": {
   "codemirror_mode": {
    "name": "ipython",
    "version": 3
   },
   "file_extension": ".py",
   "mimetype": "text/x-python",
   "name": "python",
   "nbconvert_exporter": "python",
   "pygments_lexer": "ipython3",
   "version": "3.9.13"
  }
 },
 "nbformat": 4,
 "nbformat_minor": 5
}
